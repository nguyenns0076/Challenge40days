{
 "cells": [
  {
   "cell_type": "markdown",
   "metadata": {},
   "source": [
    "Day_1: If Else"
   ]
  },
  {
   "cell_type": "code",
   "execution_count": 7,
   "metadata": {},
   "outputs": [],
   "source": [
    "can = [\"Canh\", \"Tan\", \"Nham\", \"Quy\", \"Giap\", \"At\", \"Binh\", \"Dinh\", \"Mau\", \"Ky\"]\n",
    "chi = [\"Than\", \"Dau\", \"Tuat\", \"Hoi\", \"Ty\", \"Suu\", \"Dan\", \"Mao\", \"Thin\", \"Ty\", \"Ngo\", \"Mui\"]"
   ]
  },
  {
   "cell_type": "code",
   "execution_count": 8,
   "metadata": {},
   "outputs": [],
   "source": [
    "def calculate_can_chi_calendar(year):\n",
    "  result =''\n",
    "\n",
    "  can_year = can[year%10]\n",
    "  chi_year = chi[year%12]\n",
    "  result = can_year + ' ' + chi_year\n",
    "\n",
    "  return result"
   ]
  },
  {
   "cell_type": "code",
   "execution_count": 9,
   "metadata": {},
   "outputs": [
    {
     "data": {
      "text/plain": [
       "'Giap Thin'"
      ]
     },
     "execution_count": 9,
     "metadata": {},
     "output_type": "execute_result"
    }
   ],
   "source": [
    "calculate_can_chi_calendar(2024)"
   ]
  },
  {
   "cell_type": "code",
   "execution_count": 10,
   "metadata": {},
   "outputs": [
    {
     "data": {
      "text/plain": [
       "'Quy Mao'"
      ]
     },
     "execution_count": 10,
     "metadata": {},
     "output_type": "execute_result"
    }
   ],
   "source": [
    "calculate_can_chi_calendar(2023)"
   ]
  },
  {
   "cell_type": "code",
   "execution_count": 11,
   "metadata": {},
   "outputs": [
    {
     "data": {
      "text/plain": [
       "'Dinh Suu'"
      ]
     },
     "execution_count": 11,
     "metadata": {},
     "output_type": "execute_result"
    }
   ],
   "source": [
    "calculate_can_chi_calendar(1997)"
   ]
  },
  {
   "cell_type": "markdown",
   "metadata": {},
   "source": [
    "--------------------------------------------------------------------------------------------"
   ]
  },
  {
   "cell_type": "markdown",
   "metadata": {},
   "source": [
    "Day_2: For Loop"
   ]
  },
  {
   "cell_type": "code",
   "execution_count": 2,
   "metadata": {},
   "outputs": [],
   "source": [
    "def compute_interest(money, period):\n",
    "    result = ''\n",
    "    \n",
    "    for iterate in range(period):\n",
    "        result = (money + (money / period))**period\n",
    "\n",
    "    return result"
   ]
  },
  {
   "cell_type": "code",
   "execution_count": 23,
   "metadata": {},
   "outputs": [
    {
     "data": {
      "text/plain": [
       "2.613035290224676"
      ]
     },
     "execution_count": 23,
     "metadata": {},
     "output_type": "execute_result"
    }
   ],
   "source": [
    "compute_interest(1, 12)"
   ]
  },
  {
   "cell_type": "code",
   "execution_count": 24,
   "metadata": {},
   "outputs": [
    {
     "data": {
      "text/plain": [
       "2.7145674820219727"
      ]
     },
     "execution_count": 24,
     "metadata": {},
     "output_type": "execute_result"
    }
   ],
   "source": [
    "compute_interest(1, 365)"
   ]
  },
  {
   "cell_type": "code",
   "execution_count": 25,
   "metadata": {},
   "outputs": [
    {
     "data": {
      "text/plain": [
       "2.7164223264603464"
      ]
     },
     "execution_count": 25,
     "metadata": {},
     "output_type": "execute_result"
    }
   ],
   "source": [
    "compute_interest(1, 730)"
   ]
  },
  {
   "cell_type": "code",
   "execution_count": 3,
   "metadata": {},
   "outputs": [
    {
     "data": {
      "text/plain": [
       "2.7174966139216066"
      ]
     },
     "execution_count": 3,
     "metadata": {},
     "output_type": "execute_result"
    }
   ],
   "source": [
    "compute_interest(1, 1730)"
   ]
  },
  {
   "cell_type": "markdown",
   "metadata": {},
   "source": [
    "--------------------------------------------------------------------------------------------"
   ]
  },
  {
   "cell_type": "markdown",
   "metadata": {},
   "source": [
    "Day_3: While-Loop"
   ]
  },
  {
   "cell_type": "code",
   "execution_count": 4,
   "metadata": {},
   "outputs": [],
   "source": [
    "def find_squared_root (a):\n",
    "    epsilon = 0.001\n",
    "    result = ''\n",
    "    x_n = a\n",
    "    \n",
    "    while True:\n",
    "        # tinh xn+1\n",
    "        x_n1 = 0.5 * (x_n + a / x_n)\n",
    "\n",
    "        # dieu kien dung\n",
    "        if abs(x_n1 - x_n) < epsilon:\n",
    "            return x_n1\n",
    "        \n",
    "        # cap nhat x_n\n",
    "        x_n = x_n1"
   ]
  },
  {
   "cell_type": "code",
   "execution_count": 5,
   "metadata": {},
   "outputs": [
    {
     "data": {
      "text/plain": [
       "1.4142135623746899"
      ]
     },
     "execution_count": 5,
     "metadata": {},
     "output_type": "execute_result"
    }
   ],
   "source": [
    "find_squared_root(2)"
   ]
  },
  {
   "cell_type": "code",
   "execution_count": 6,
   "metadata": {},
   "outputs": [
    {
     "data": {
      "text/plain": [
       "1.7320508100147274"
      ]
     },
     "execution_count": 6,
     "metadata": {},
     "output_type": "execute_result"
    }
   ],
   "source": [
    "find_squared_root(3)"
   ]
  },
  {
   "cell_type": "markdown",
   "metadata": {},
   "source": [
    "--------------------------------------------------------------------------------------------"
   ]
  },
  {
   "cell_type": "markdown",
   "metadata": {},
   "source": [
    "Day_4: 2D List - Convolutional calculation"
   ]
  },
  {
   "cell_type": "code",
   "execution_count": 5,
   "metadata": {},
   "outputs": [
    {
     "name": "stdout",
     "output_type": "stream",
     "text": [
      "Câu A: Kết quả tích chập của A và Kernel B:\n",
      "[41, 54]\n",
      "[80, 93]\n",
      "Câu B: Kết quả tích chập của A và Kernel C:\n",
      "[15]\n"
     ]
    }
   ],
   "source": [
    "# Hàm tính tích chập (convolution) cho ma trận\n",
    "def convolution_2d(matrix, kernel):\n",
    "    m, n = len(matrix), len(matrix[0])\n",
    "    km, kn = len(kernel), len(kernel[0])\n",
    "    output = []\n",
    "\n",
    "    for i in range(m - km + 1):\n",
    "        row = []\n",
    "        for j in range(n - kn + 1):\n",
    "            sum = 0\n",
    "            for ki in range(km):\n",
    "                for kj in range(kn):\n",
    "                    sum += matrix[i + ki][j + kj] * kernel[ki][kj]\n",
    "            row.append(sum)\n",
    "        output.append(row)\n",
    "    return output\n",
    "\n",
    "\n",
    "# Ma trận đầu vào A\n",
    "matrix_a = [\n",
    "    [1, 2, 3],\n",
    "    [4, 5, 6],\n",
    "    [7, 8, 9]\n",
    "]\n",
    "\n",
    "# Kernel B\n",
    "kernel_b = [\n",
    "    [2, 4],\n",
    "    [4, 3]\n",
    "]\n",
    "\n",
    "# Kernel C\n",
    "kernel_c = [\n",
    "    [1, 0, 0],\n",
    "    [0, 1, 0],\n",
    "    [0, 0, 1]\n",
    "]\n",
    "\n",
    "# Tính toán Convolutional cho câu A\n",
    "result_a = convolution_2d(matrix_a, kernel_b)\n",
    "print(\"Câu A: Kết quả tích chập của A và Kernel B:\")\n",
    "for row in result_a:\n",
    "    print(row)\n",
    "\n",
    "# Tính toán Convolutional cho câu B\n",
    "result_b = convolution_2d(matrix_a, kernel_c)\n",
    "print(\"Câu B: Kết quả tích chập của A và Kernel C:\")\n",
    "for row in result_b:\n",
    "    print(row)"
   ]
  },
  {
   "cell_type": "markdown",
   "metadata": {},
   "source": [
    "a_rows = 3\n",
    "a_cols = 3\n",
    "b_index = 0\n",
    "a_metrix = [[0]*a_cols for v in range(a_rows)]\n",
    "value = 1\n",
    "ab_metrix = [[0]*(a_cols - 1) for v in range(a_rows - 1)]\n",
    "ac_metrix = [[0]*a_cols for v in range(a_rows)]\n",
    "temp_metrix = [[0]*(a_cols - 1) for v in range(a_rows - 1)]\n",
    "for r in range(a_rows):\n",
    "    for c in range(a_cols):\n",
    "        a_metrix[r][c] = value\n",
    "        value += 1\n",
    "\n",
    "for v in range(3):\n",
    "    print(a_metrix[v])\n",
    "    print()\n",
    "    \n",
    "b_metrix = [[2, 4], [1, 3]]\n",
    "c_metrix = [[1, 1, 1], [0, 0, 0], [1, 1, 1]]\n",
    "\n",
    "for v in range(2):\n",
    "    print(b_metrix[v])\n",
    "    print()\n",
    "\n",
    "for r in range (a_rows):\n",
    "    for c in range(a_cols):\n",
    "        if c > b_index + 1:\n",
    "            break\n",
    "        elif r > b_index + 1:\n",
    "            break\n",
    "        else:\n",
    "            ab_metrix[r][c] =  a_metrix[r][c] * b_metrix[b_index][b_index] + \\\n",
    "                                a_metrix[r][c + 1] * b_metrix[b_index][b_index + 1] + \\\n",
    "                                a_metrix[r + 1][c + 1] * b_metrix[b_index + 1][b_index + 1] + \\\n",
    "                                a_metrix[r + 1][c] * b_metrix[b_index + 1][b_index]\n",
    "\n",
    "print(ab_metrix)\n",
    "\n",
    "for r in range (a_rows):\n",
    "    for c in range(a_cols):\n",
    "        if r == 1 & c == 1:\n",
    "            ac_metrix[r][c] =  a_metrix[r - 1][c - 1] * c_metrix[r - 1][c - 1] + \\\n",
    "                                a_metrix[r - 1][c] * c_metrix[r - 1][c] + \\\n",
    "                                a_metrix[r - 1][c + 1] * c_metrix[r - 1][c + 1] + \\\n",
    "                                a_metrix[r][c - 1] * c_metrix[r][c - 1] + \\\n",
    "                                a_metrix[r][c + 1] * c_metrix[r][c + 1] + \\\n",
    "                                a_metrix[r + 1][c - 1] * c_metrix[r + 1][c - 1] + \\\n",
    "                                a_metrix[r + 1][c] * c_metrix[r + 1][c] + \\\n",
    "                                a_metrix[r + 1][c + 1] * c_metrix[r + 1][c + 1]\n",
    "            \n",
    "for v in range(3):\n",
    "    print(ac_metrix[v])\n",
    "    print()\n"
   ]
  },
  {
   "cell_type": "markdown",
   "metadata": {},
   "source": [
    "--------------------------------------------------------------------------------------------"
   ]
  },
  {
   "cell_type": "markdown",
   "metadata": {},
   "source": [
    "Day_5: Bag of Words (NLP)"
   ]
  },
  {
   "cell_type": "code",
   "execution_count": 4,
   "metadata": {},
   "outputs": [
    {
     "name": "stdout",
     "output_type": "stream",
     "text": [
      "Vocabulary: ['AI', 'Toán', 'Tôi', 'môn', 'nhạc', 'thích', 'âm']\n",
      "BoW Vector: [1, 1, 1, 0, 0, 2, 0]\n"
     ]
    }
   ],
   "source": [
    "# Bước 1: Tạo corpus\n",
    "corpus = [\n",
    "    \"Tôi thích môn Toán\",\n",
    "    \"Tôi thích AI\",\n",
    "    \"Tôi thích âm nhạc\"\n",
    "]\n",
    "\n",
    "# Bước 2: Tokenization\n",
    "\n",
    "\n",
    "def tokenize(sentence):\n",
    "    return sentence.split()\n",
    "\n",
    "\n",
    "# Tạo từ vựng (vocabulary) từ corpus\n",
    "vocabulary = set()\n",
    "for document in corpus:\n",
    "    words = tokenize(document)\n",
    "    vocabulary.update(words)\n",
    "vocabulary = sorted(vocabulary)\n",
    "\n",
    "# Tạo dictionary để mapping từ vựng với chỉ số\n",
    "vocab_dict = {word: idx for idx, word in enumerate(vocabulary)}\n",
    "\n",
    "# Bước 3: Biểu diễn văn bản dưới dạng BoW\n",
    "\n",
    "\n",
    "def vectorize(sentence):\n",
    "    words = tokenize(sentence)\n",
    "    vector = [0] * len(vocabulary)\n",
    "    for word in words:\n",
    "        if word in vocab_dict:\n",
    "            index = vocab_dict[word]\n",
    "            vector[index] += 1\n",
    "    return vector\n",
    "\n",
    "\n",
    "# Ví dụ sử dụng:\n",
    "sentence = \"Tôi thích AI thích Toán\"\n",
    "bow_vector = vectorize(sentence)\n",
    "\n",
    "print(\"Vocabulary:\", vocabulary)\n",
    "print(\"BoW Vector:\", bow_vector)"
   ]
  },
  {
   "cell_type": "markdown",
   "metadata": {},
   "source": [
    "corpus = [\"Toi thich mon Toan\", \"Toi thich AI\", \"Toi thich am nhac\"]\n",
    "words = \"Toi thich AI thich Toan\"\n",
    "\n",
    "bag_of_words = set()\n",
    "for i in range(len(corpus)):\n",
    "    temp = set(corpus[i].split())\n",
    "    bag_of_words.update(temp)\n",
    "\n",
    "tem = words.split()\n",
    "cont = [0]*len(bag_of_words)\n",
    "bag_of_words = list(bag_of_words)\n",
    " \n",
    "for b in range(len(bag_of_words)):\n",
    "    for i in range(len(tem)):\n",
    "        if bag_of_words[b] == tem[i]:\n",
    "            cont[b] += 1\n",
    "\n",
    "\n",
    "print(bag_of_words)\n",
    "print(tem)\n",
    "\n",
    "print(cont)"
   ]
  },
  {
   "cell_type": "markdown",
   "metadata": {},
   "source": [
    "--------------------------------------------------------------------------------------------"
   ]
  },
  {
   "cell_type": "markdown",
   "metadata": {},
   "source": [
    "Day_6: 2D List - Convolutional calculation"
   ]
  },
  {
   "cell_type": "code",
   "execution_count": 6,
   "metadata": {},
   "outputs": [
    {
     "name": "stdout",
     "output_type": "stream",
     "text": [
      "Output matrix:\n",
      "[[ 0.  0.  0.  0.]\n",
      " [ 3.  8.  5.  2.]\n",
      " [11. 23. 28. 14.]\n",
      " [39. 55. 37. 13.]\n",
      " [20. 23.  8.  0.]]\n"
     ]
    }
   ],
   "source": [
    "import numpy as np\n",
    "\n",
    "\n",
    "def apply_convolution(input_matrix, kernel):\n",
    "    # Add zero padding around the input matrix\n",
    "    padded_input = np.pad(input_matrix, ((1, 1), (1, 1)),\n",
    "                          mode='constant', constant_values=0)\n",
    "\n",
    "    # Output matrix initialization\n",
    "    output_matrix = np.zeros(\n",
    "        (padded_input.shape[0] - kernel.shape[0] + 1, padded_input.shape[1] - kernel.shape[1] + 1))\n",
    "\n",
    "    # Convolution calculation\n",
    "    for i in range(output_matrix.shape[0]):\n",
    "        for j in range(output_matrix.shape[1]):\n",
    "            output_matrix[i, j] = np.sum(\n",
    "                padded_input[i:i+kernel.shape[0], j:j+kernel.shape[1]] * kernel)\n",
    "\n",
    "    return output_matrix\n",
    "\n",
    "\n",
    "# Input matrix\n",
    "input_matrix = np.array([\n",
    "    [0, 0, 0, 0],\n",
    "    [0, 1, 2, 0],\n",
    "    [0, 3, 4, 5],\n",
    "    [6, 7, 8, 0]\n",
    "])\n",
    "\n",
    "# Kernel matrix\n",
    "kernel = np.array([\n",
    "    [0, 1, 2],\n",
    "    [1, 2, 3]\n",
    "])\n",
    "\n",
    "# Apply convolution\n",
    "output_matrix = apply_convolution(input_matrix, kernel)\n",
    "\n",
    "# Print the output matrix\n",
    "print(\"Output matrix:\")\n",
    "print(output_matrix)"
   ]
  },
  {
   "cell_type": "markdown",
   "metadata": {},
   "source": [
    "a_rows = 5\n",
    "a_cols = 5\n",
    "b_index = 0\n",
    "a_metrix = [[0]*a_cols for v in range(a_rows)]\n",
    "value = 1\n",
    "ab_metrix = [[0]*(a_cols - 1) for v in range(a_rows - 1)]\n",
    "ac_metrix = [[0]*a_cols for v in range(a_rows)]\n",
    "temp_metrix = [[0]*(a_cols - 1) for v in range(a_rows - 1)]\n",
    "\n",
    "\n",
    "a_metrix[2][2] = 4\n",
    "a_metrix[3][2] = 1\n",
    "print(\"a metrix\")\n",
    "for v in range(a_rows):\n",
    "    print(a_metrix[v])\n",
    "    print()\n",
    "\n",
    "b_metrix = [[1, 1], [1, 1]]\n",
    "c_metrix = [[0, 1, 0], [0, 1, 0], [0, 1, 0]]\n",
    "print(\"b metrix\") \n",
    "for v in range(len(b_metrix)):\n",
    "    print(b_metrix[v])\n",
    "    print()\n",
    "\n",
    "for r in range (a_rows):\n",
    "    for c in range(a_cols):\n",
    "        if c > b_index + 1:\n",
    "            break\n",
    "        elif r > b_index + 1:\n",
    "            break\n",
    "        else:\n",
    "            ab_metrix[r][c] =  a_metrix[r][c] * b_metrix[b_index][b_index] + \\\n",
    "                                a_metrix[r][c + 1] * b_metrix[b_index][b_index + 1] + \\\n",
    "                                a_metrix[r + 1][c + 1] * b_metrix[b_index + 1][b_index + 1] + \\\n",
    "                                a_metrix[r + 1][c] * b_metrix[b_index + 1][b_index]\n",
    "\n",
    "print(\"ab metrix\") \n",
    "for v in range(len(ab_metrix)):\n",
    "    print(ab_metrix[v])\n",
    "    print()\n",
    "\n",
    "for r in range (a_rows):\n",
    "    for c in range(a_cols):\n",
    "        if c > b_index + 1:\n",
    "            break\n",
    "        elif r > b_index + 1:\n",
    "            break\n",
    "        if r == 3 & c == 3:\n",
    "            ac_metrix[r][c] =  a_metrix[r - 1][c - 1] * c_metrix[r - 1][c - 1] + \\\n",
    "                                a_metrix[r - 1][c] * c_metrix[r - 1][c] + \\\n",
    "                                a_metrix[r - 1][c + 1] * c_metrix[r - 1][c + 1] + \\\n",
    "                                a_metrix[r][c - 1] * c_metrix[r][c - 1] + \\\n",
    "                                a_metrix[r][c + 1] * c_metrix[r][c + 1] + \\\n",
    "                                a_metrix[r + 1][c - 1] * c_metrix[r + 1][c - 1] + \\\n",
    "                                a_metrix[r + 1][c] * c_metrix[r + 1][c] + \\\n",
    "                                a_metrix[r + 1][c + 1] * c_metrix[r + 1][c + 1]\n",
    "print(ac_metrix)"
   ]
  },
  {
   "cell_type": "markdown",
   "metadata": {},
   "source": [
    "--------------------------------------------------------------------------------------------"
   ]
  },
  {
   "cell_type": "markdown",
   "metadata": {},
   "source": [
    "Day_7: 2D List - Convolutional calculation"
   ]
  },
  {
   "cell_type": "code",
   "execution_count": 8,
   "metadata": {},
   "outputs": [
    {
     "name": "stdout",
     "output_type": "stream",
     "text": [
      "[0, 0, 0, 4]\n",
      "\n",
      "[0, 4, 0, 2]\n",
      "\n",
      "[0, 1, 0, 2]\n",
      "\n",
      "[0, 3, 0, 2]\n",
      "\n",
      "[[4, 4], [3, 2]]\n",
      "[[1.0, 1.5], [1.0, 1.0]]\n"
     ]
    }
   ],
   "source": [
    "\n",
    "a_metrix = [\n",
    "    [0, 0, 0, 4],\n",
    "    [0, 4, 0, 2],\n",
    "    [0, 1, 0, 2],\n",
    "    [0, 3, 0, 2]\n",
    "]\n",
    "\n",
    "for v in range(len(a_metrix)):\n",
    "    print(a_metrix[v])\n",
    "    print()\n",
    "    \n",
    "\n",
    "def convolution_2d_max_pooling(matrix):\n",
    "    m, n = len(matrix), len(matrix[0])\n",
    "    km, kn = 2, 2\n",
    "    output = []\n",
    "\n",
    "    for i in range(0, m - km + 1, 2):\n",
    "        row = []\n",
    "        for j in range(0, n - kn + 1, 2):\n",
    "            max_value = 0\n",
    "            for ki in range(km):\n",
    "                for kj in range(kn):\n",
    "                    temp = matrix[i + ki][j + kj]\n",
    "                    if temp > max_value:\n",
    "                        max_value = temp\n",
    "            row.append(max_value)\n",
    "        output.append(row)\n",
    "    return output\n",
    "\n",
    "\n",
    "print(convolution_2d_max_pooling(a_metrix))\n",
    "\n",
    "\n",
    "def convolution_2d_ave_pooling(matrix):\n",
    "    m, n = len(matrix), len(matrix[0])\n",
    "    km, kn = 2, 2\n",
    "    output = []\n",
    "\n",
    "    for i in range(0, m - km + 1, 2):\n",
    "        row = []\n",
    "        for j in range(0, n - kn + 1, 2):\n",
    "            ave = 0\n",
    "            num_ele = 0\n",
    "            sum_ele = 0\n",
    "            for ki in range(km):\n",
    "                for kj in range(kn):\n",
    "                    sum_ele += matrix[i + ki][j + kj]\n",
    "                    num_ele += 1\n",
    "            ave = sum_ele/num_ele\n",
    "            row.append(ave)\n",
    "        output.append(row)\n",
    "    return output\n",
    "\n",
    "\n",
    "print(convolution_2d_ave_pooling(a_metrix))\n",
    "\n",
    "\n"
   ]
  },
  {
   "cell_type": "markdown",
   "metadata": {},
   "source": [
    "----------------------------------------------------------------------------------------------------"
   ]
  },
  {
   "cell_type": "markdown",
   "metadata": {},
   "source": [
    "Day_8: Tuple - Cosine Similarity"
   ]
  },
  {
   "cell_type": "code",
   "execution_count": 10,
   "metadata": {},
   "outputs": [
    {
     "name": "stdout",
     "output_type": "stream",
     "text": [
      "Cosine Similarity giữa A và B là: 0.9778024140774094\n"
     ]
    }
   ],
   "source": [
    "import math\n",
    "\n",
    "def dot_product(vec_a, vec_b):\n",
    "    return sum(a * b for a, b in zip(vec_a, vec_b))\n",
    "\n",
    "def magnitude(vector):\n",
    "    return math.sqrt(sum(x**2 for x in vector))\n",
    "\n",
    "def cosine_similarity(vec_a, vec_b):\n",
    "    dot_prod = dot_product(vec_a, vec_b)\n",
    "    mag_a = magnitude(vec_a)\n",
    "    mag_b = magnitude(vec_b)\n",
    "    \n",
    "    if mag_a == 0 or mag_b == 0:\n",
    "        return 0  # Xử lý trường hợp độ lớn của vector bằng 0 để tránh chia cho 0\n",
    "    \n",
    "    return dot_prod / (mag_a * mag_b)\n",
    "\n",
    "# Vector A và B\n",
    "vec_a = [1, 2]\n",
    "vec_b = [4, 5]\n",
    "\n",
    "# Tính cosine similarity\n",
    "result = cosine_similarity(vec_a, vec_b)\n",
    "print(f\"Cosine Similarity giữa A và B là: {result}\")"
   ]
  },
  {
   "cell_type": "markdown",
   "metadata": {},
   "source": [
    "------------------------------------------------------------------------------\n"
   ]
  },
  {
   "cell_type": "markdown",
   "metadata": {},
   "source": [
    "Day_9: OOP"
   ]
  },
  {
   "cell_type": "code",
   "execution_count": 11,
   "metadata": {},
   "outputs": [
    {
     "name": "stdout",
     "output_type": "stream",
     "text": [
      "Khoảng cách từ point_a (1, 2) đến gốc tọa độ là: 2.23606797749979\n",
      "Khoảng cách từ point_b (4, 5) đến gốc tọa độ là: 6.4031242374328485\n"
     ]
    }
   ],
   "source": [
    "import math\n",
    "\n",
    "class Point:\n",
    "    def __init__(self, x, y):\n",
    "        self.x = x\n",
    "        self.y = y\n",
    "    \n",
    "    def distance_to_origin(self):\n",
    "        return math.sqrt(self.x**2 + self.y**2)\n",
    "\n",
    "# Tạo đối tượng point_a và point_b\n",
    "point_a = Point(1, 2)\n",
    "point_b = Point(4, 5)\n",
    "\n",
    "# Tính khoảng cách từ point_a và point_b đến gốc tọa độ\n",
    "distance_a_to_origin = point_a.distance_to_origin()\n",
    "distance_b_to_origin = point_b.distance_to_origin()\n",
    "\n",
    "print(f\"Khoảng cách từ point_a (1, 2) đến gốc tọa độ là: {distance_a_to_origin}\")\n",
    "print(f\"Khoảng cách từ point_b (4, 5) đến gốc tọa độ là: {distance_b_to_origin}\")"
   ]
  }
 ],
 "metadata": {
  "kernelspec": {
   "display_name": ".venv",
   "language": "python",
   "name": "python3"
  },
  "language_info": {
   "codemirror_mode": {
    "name": "ipython",
    "version": 3
   },
   "file_extension": ".py",
   "mimetype": "text/x-python",
   "name": "python",
   "nbconvert_exporter": "python",
   "pygments_lexer": "ipython3",
   "version": "3.11.7"
  }
 },
 "nbformat": 4,
 "nbformat_minor": 2
}
