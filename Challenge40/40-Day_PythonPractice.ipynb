{
 "cells": [
  {
   "cell_type": "markdown",
   "metadata": {},
   "source": [
    "Day_1: If Else"
   ]
  },
  {
   "cell_type": "code",
   "execution_count": 7,
   "metadata": {},
   "outputs": [],
   "source": [
    "can = [\"Canh\", \"Tan\", \"Nham\", \"Quy\", \"Giap\", \"At\", \"Binh\", \"Dinh\", \"Mau\", \"Ky\"]\n",
    "chi = [\"Than\", \"Dau\", \"Tuat\", \"Hoi\", \"Ty\", \"Suu\", \"Dan\", \"Mao\", \"Thin\", \"Ty\", \"Ngo\", \"Mui\"]"
   ]
  },
  {
   "cell_type": "code",
   "execution_count": 8,
   "metadata": {},
   "outputs": [],
   "source": [
    "def calculate_can_chi_calendar(year):\n",
    "  result =''\n",
    "\n",
    "  can_year = can[year%10]\n",
    "  chi_year = chi[year%12]\n",
    "  result = can_year + ' ' + chi_year\n",
    "\n",
    "  return result"
   ]
  },
  {
   "cell_type": "code",
   "execution_count": 9,
   "metadata": {},
   "outputs": [
    {
     "data": {
      "text/plain": [
       "'Giap Thin'"
      ]
     },
     "execution_count": 9,
     "metadata": {},
     "output_type": "execute_result"
    }
   ],
   "source": [
    "calculate_can_chi_calendar(2024)"
   ]
  },
  {
   "cell_type": "code",
   "execution_count": 10,
   "metadata": {},
   "outputs": [
    {
     "data": {
      "text/plain": [
       "'Quy Mao'"
      ]
     },
     "execution_count": 10,
     "metadata": {},
     "output_type": "execute_result"
    }
   ],
   "source": [
    "calculate_can_chi_calendar(2023)"
   ]
  },
  {
   "cell_type": "code",
   "execution_count": 11,
   "metadata": {},
   "outputs": [
    {
     "data": {
      "text/plain": [
       "'Dinh Suu'"
      ]
     },
     "execution_count": 11,
     "metadata": {},
     "output_type": "execute_result"
    }
   ],
   "source": [
    "calculate_can_chi_calendar(1997)"
   ]
  },
  {
   "cell_type": "markdown",
   "metadata": {},
   "source": [
    "--------------------------------------------------------------------------------------------"
   ]
  },
  {
   "cell_type": "markdown",
   "metadata": {},
   "source": [
    "Day_2: For Loop"
   ]
  },
  {
   "cell_type": "code",
   "execution_count": 2,
   "metadata": {},
   "outputs": [],
   "source": [
    "def compute_interest(money, period):\n",
    "    result = ''\n",
    "    \n",
    "    for iterate in range(period):\n",
    "        result = (money + (money / period))**period\n",
    "\n",
    "    return result"
   ]
  },
  {
   "cell_type": "code",
   "execution_count": 23,
   "metadata": {},
   "outputs": [
    {
     "data": {
      "text/plain": [
       "2.613035290224676"
      ]
     },
     "execution_count": 23,
     "metadata": {},
     "output_type": "execute_result"
    }
   ],
   "source": [
    "compute_interest(1, 12)"
   ]
  },
  {
   "cell_type": "code",
   "execution_count": 24,
   "metadata": {},
   "outputs": [
    {
     "data": {
      "text/plain": [
       "2.7145674820219727"
      ]
     },
     "execution_count": 24,
     "metadata": {},
     "output_type": "execute_result"
    }
   ],
   "source": [
    "compute_interest(1, 365)"
   ]
  },
  {
   "cell_type": "code",
   "execution_count": 25,
   "metadata": {},
   "outputs": [
    {
     "data": {
      "text/plain": [
       "2.7164223264603464"
      ]
     },
     "execution_count": 25,
     "metadata": {},
     "output_type": "execute_result"
    }
   ],
   "source": [
    "compute_interest(1, 730)"
   ]
  },
  {
   "cell_type": "code",
   "execution_count": 3,
   "metadata": {},
   "outputs": [
    {
     "data": {
      "text/plain": [
       "2.7174966139216066"
      ]
     },
     "execution_count": 3,
     "metadata": {},
     "output_type": "execute_result"
    }
   ],
   "source": [
    "compute_interest(1, 1730)"
   ]
  },
  {
   "cell_type": "markdown",
   "metadata": {},
   "source": [
    "--------------------------------------------------------------------------------------------"
   ]
  },
  {
   "cell_type": "markdown",
   "metadata": {},
   "source": [
    "Day_3: While-Loop"
   ]
  },
  {
   "cell_type": "code",
   "execution_count": 4,
   "metadata": {},
   "outputs": [],
   "source": [
    "def find_squared_root (a):\n",
    "    epsilon = 0.001\n",
    "    result = ''\n",
    "    x_n = a\n",
    "    \n",
    "    while True:\n",
    "        # tinh xn+1\n",
    "        x_n1 = 0.5 * (x_n + a / x_n)\n",
    "\n",
    "        # dieu kien dung\n",
    "        if abs(x_n1 - x_n) < epsilon:\n",
    "            return x_n1\n",
    "        \n",
    "        # cap nhat x_n\n",
    "        x_n = x_n1"
   ]
  },
  {
   "cell_type": "code",
   "execution_count": 5,
   "metadata": {},
   "outputs": [
    {
     "data": {
      "text/plain": [
       "1.4142135623746899"
      ]
     },
     "execution_count": 5,
     "metadata": {},
     "output_type": "execute_result"
    }
   ],
   "source": [
    "find_squared_root(2)"
   ]
  },
  {
   "cell_type": "code",
   "execution_count": 6,
   "metadata": {},
   "outputs": [
    {
     "data": {
      "text/plain": [
       "1.7320508100147274"
      ]
     },
     "execution_count": 6,
     "metadata": {},
     "output_type": "execute_result"
    }
   ],
   "source": [
    "find_squared_root(3)"
   ]
  },
  {
   "cell_type": "markdown",
   "metadata": {},
   "source": [
    "--------------------------------------------------------------------------------------------"
   ]
  },
  {
   "cell_type": "markdown",
   "metadata": {},
   "source": [
    "Day_4: 2D List - Convolutional calculation"
   ]
  },
  {
   "cell_type": "code",
   "execution_count": 1,
   "metadata": {},
   "outputs": [
    {
     "name": "stdout",
     "output_type": "stream",
     "text": [
      "[[29, 39], [59, 69]]\n",
      "[[0, 0, 0], [0, 30, 0], [0, 0, 0]]\n"
     ]
    }
   ],
   "source": [
    "a_rows = 3\n",
    "a_cols = 3\n",
    "b_index = 0\n",
    "a_metrix = [[0]*a_cols for v in range(a_rows)]\n",
    "value = 1\n",
    "ab_metrix = [[0]*(a_cols - 1) for v in range(a_rows - 1)]\n",
    "ac_metrix = [[0]*a_cols for v in range(a_rows)]\n",
    "temp_metrix = [[0]*(a_cols - 1) for v in range(a_rows - 1)]\n",
    "for r in range(a_rows):\n",
    "    for c in range(a_cols):\n",
    "        a_metrix[r][c] = value\n",
    "        value += 1\n",
    "    \n",
    "b_metrix = [[2, 4], [1, 3]]\n",
    "c_metrix = [[1, 1, 1], [0, 0, 0], [1, 1, 1]]\n",
    "\n",
    "\n",
    "for r in range (a_rows):\n",
    "    for c in range(a_cols):\n",
    "        if c > b_index + 1:\n",
    "            break\n",
    "        elif r > b_index + 1:\n",
    "            break\n",
    "        else:\n",
    "            ab_metrix[r][c] =  a_metrix[r][c] * b_metrix[b_index][b_index] + \\\n",
    "                                a_metrix[r][c + 1] * b_metrix[b_index][b_index + 1] + \\\n",
    "                                a_metrix[r + 1][c + 1] * b_metrix[b_index + 1][b_index + 1] + \\\n",
    "                                a_metrix[r + 1][c] * b_metrix[b_index + 1][b_index]\n",
    "\n",
    "print(ab_metrix)\n",
    "\n",
    "for r in range (a_rows):\n",
    "    for c in range(a_cols):\n",
    "        if r == 1 & c == 1:\n",
    "            ac_metrix[r][c] =  a_metrix[r - 1][c - 1] * c_metrix[r - 1][c - 1] + \\\n",
    "                                a_metrix[r - 1][c] * c_metrix[r - 1][c] + \\\n",
    "                                a_metrix[r - 1][c + 1] * c_metrix[r - 1][c + 1] + \\\n",
    "                                a_metrix[r][c - 1] * c_metrix[r][c - 1] + \\\n",
    "                                a_metrix[r][c + 1] * c_metrix[r][c + 1] + \\\n",
    "                                a_metrix[r + 1][c - 1] * c_metrix[r + 1][c - 1] + \\\n",
    "                                a_metrix[r + 1][c] * c_metrix[r + 1][c] + \\\n",
    "                                a_metrix[r + 1][c + 1] * c_metrix[r + 1][c + 1]\n",
    "print(ac_metrix)"
   ]
  },
  {
   "cell_type": "markdown",
   "metadata": {},
   "source": [
    "--------------------------------------------------------------------------------------------"
   ]
  },
  {
   "cell_type": "markdown",
   "metadata": {},
   "source": [
    "Day_5: Bag of Words (NLP)"
   ]
  },
  {
   "cell_type": "code",
   "execution_count": 64,
   "metadata": {},
   "outputs": [
    {
     "name": "stdout",
     "output_type": "stream",
     "text": [
      "['am', 'mon', 'nhac', 'thich', 'Toi', 'Toan', 'AI']\n",
      "['Toi', 'thich', 'AI', 'thich', 'Toan']\n",
      "[0, 0, 0, 2, 1, 1, 1]\n"
     ]
    }
   ],
   "source": [
    "corpus = [\"Toi thich mon Toan\", \"Toi thich AI\", \"Toi thich am nhac\"]\n",
    "words = \"Toi thich AI thich Toan\"\n",
    "\n",
    "bag_of_words = set()\n",
    "for i in range(len(corpus)):\n",
    "    temp = set(corpus[i].split())\n",
    "    bag_of_words.update(temp)\n",
    "\n",
    "tem = words.split()\n",
    "cont = [0]*len(bag_of_words)\n",
    "bag_of_words = list(bag_of_words)\n",
    " \n",
    "for b in range(len(bag_of_words)):\n",
    "    for i in range(len(tem)):\n",
    "        if bag_of_words[b] == tem[i]:\n",
    "            cont[b] += 1\n",
    "\n",
    "\n",
    "print(bag_of_words)\n",
    "print(tem)\n",
    "\n",
    "print(cont)"
   ]
  },
  {
   "cell_type": "markdown",
   "metadata": {},
   "source": [
    "--------------------------------------------------------------------------------------------"
   ]
  },
  {
   "cell_type": "markdown",
   "metadata": {},
   "source": [
    "Day_6: 2D List - Convolutional calculation"
   ]
  },
  {
   "cell_type": "code",
   "execution_count": 11,
   "metadata": {},
   "outputs": [
    {
     "name": "stdout",
     "output_type": "stream",
     "text": [
      "a metrix\n",
      "[0, 0, 0, 0, 0]\n",
      "\n",
      "[0, 0, 0, 0, 0]\n",
      "\n",
      "[0, 0, 4, 0, 0]\n",
      "\n",
      "[0, 0, 1, 0, 0]\n",
      "\n",
      "[0, 0, 0, 0, 0]\n",
      "\n",
      "b metrix\n",
      "[1, 1]\n",
      "\n",
      "[1, 1]\n",
      "\n",
      "ab metrix\n",
      "[0, 0, 0, 0]\n",
      "\n",
      "[0, 4, 0, 0]\n",
      "\n",
      "[0, 0, 0, 0]\n",
      "\n",
      "[0, 0, 0, 0]\n",
      "\n",
      "[[0, 0, 0, 0, 0], [0, 0, 0, 0, 0], [0, 0, 0, 0, 0], [0, 0, 0, 0, 0], [0, 0, 0, 0, 0]]\n"
     ]
    }
   ],
   "source": [
    "a_rows = 5\n",
    "a_cols = 5\n",
    "b_index = 0\n",
    "a_metrix = [[0]*a_cols for v in range(a_rows)]\n",
    "value = 1\n",
    "ab_metrix = [[0]*(a_cols - 1) for v in range(a_rows - 1)]\n",
    "ac_metrix = [[0]*a_cols for v in range(a_rows)]\n",
    "temp_metrix = [[0]*(a_cols - 1) for v in range(a_rows - 1)]\n",
    "\n",
    "\n",
    "a_metrix[2][2] = 4\n",
    "a_metrix[3][2] = 1\n",
    "print(\"a metrix\")\n",
    "for v in range(a_rows):\n",
    "    print(a_metrix[v])\n",
    "    print()\n",
    "\n",
    "\n",
    "\n",
    "b_metrix = [[1, 1], [1, 1]]\n",
    "c_metrix = [[0, 1, 0], [0, 1, 0], [0, 1, 0]]\n",
    "print(\"b metrix\") \n",
    "for v in range(len(b_metrix)):\n",
    "    print(b_metrix[v])\n",
    "    print()\n",
    "\n",
    "for r in range (a_rows):\n",
    "    for c in range(a_cols):\n",
    "        if c > b_index + 1:\n",
    "            break\n",
    "        elif r > b_index + 1:\n",
    "            break\n",
    "        else:\n",
    "            ab_metrix[r][c] =  a_metrix[r][c] * b_metrix[b_index][b_index] + \\\n",
    "                                a_metrix[r][c + 1] * b_metrix[b_index][b_index + 1] + \\\n",
    "                                a_metrix[r + 1][c + 1] * b_metrix[b_index + 1][b_index + 1] + \\\n",
    "                                a_metrix[r + 1][c] * b_metrix[b_index + 1][b_index]\n",
    "\n",
    "print(\"ab metrix\") \n",
    "for v in range(len(ab_metrix)):\n",
    "    print(ab_metrix[v])\n",
    "    print()\n",
    "\n",
    "for r in range (a_rows):\n",
    "    for c in range(a_cols):\n",
    "        if c > b_index + 1:\n",
    "            break\n",
    "        elif r > b_index + 1:\n",
    "            break\n",
    "        if r == 3 & c == 3:\n",
    "            ac_metrix[r][c] =  a_metrix[r - 1][c - 1] * c_metrix[r - 1][c - 1] + \\\n",
    "                                a_metrix[r - 1][c] * c_metrix[r - 1][c] + \\\n",
    "                                a_metrix[r - 1][c + 1] * c_metrix[r - 1][c + 1] + \\\n",
    "                                a_metrix[r][c - 1] * c_metrix[r][c - 1] + \\\n",
    "                                a_metrix[r][c + 1] * c_metrix[r][c + 1] + \\\n",
    "                                a_metrix[r + 1][c - 1] * c_metrix[r + 1][c - 1] + \\\n",
    "                                a_metrix[r + 1][c] * c_metrix[r + 1][c] + \\\n",
    "                                a_metrix[r + 1][c + 1] * c_metrix[r + 1][c + 1]\n",
    "print(ac_metrix)"
   ]
  }
 ],
 "metadata": {
  "kernelspec": {
   "display_name": ".venv",
   "language": "python",
   "name": "python3"
  },
  "language_info": {
   "codemirror_mode": {
    "name": "ipython",
    "version": 3
   },
   "file_extension": ".py",
   "mimetype": "text/x-python",
   "name": "python",
   "nbconvert_exporter": "python",
   "pygments_lexer": "ipython3",
   "version": "3.11.7"
  }
 },
 "nbformat": 4,
 "nbformat_minor": 2
}
